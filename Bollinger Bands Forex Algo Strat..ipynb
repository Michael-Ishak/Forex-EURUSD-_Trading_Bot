{
 "cells": [
  {
   "cell_type": "code",
   "execution_count": 1,
   "id": "2b25e8ba",
   "metadata": {},
   "outputs": [
    {
     "ename": "ModuleNotFoundError",
     "evalue": "No module named 'System'",
     "output_type": "error",
     "traceback": [
      "\u001b[1;31m---------------------------------------------------------------------------\u001b[0m",
      "\u001b[1;31mModuleNotFoundError\u001b[0m                       Traceback (most recent call last)",
      "\u001b[1;32m<ipython-input-1-ca3d6c53577d>\u001b[0m in \u001b[0;36m<module>\u001b[1;34m\u001b[0m\n\u001b[1;32m----> 1\u001b[1;33m \u001b[1;32mfrom\u001b[0m \u001b[0mSystem\u001b[0m\u001b[1;33m.\u001b[0m\u001b[0mDrawing\u001b[0m \u001b[1;32mimport\u001b[0m \u001b[0mColor\u001b[0m\u001b[1;33m\u001b[0m\u001b[1;33m\u001b[0m\u001b[0m\n\u001b[0m\u001b[0;32m      2\u001b[0m \u001b[1;33m\u001b[0m\u001b[0m\n",
      "\u001b[1;31mModuleNotFoundError\u001b[0m: No module named 'System'"
     ]
    }
   ],
   "source": [
    "from AlgorithmImports import *\n",
    "from System.Drawing import Color              "
   ]
  },
  {
   "cell_type": "code",
   "execution_count": 4,
   "id": "539141a8",
   "metadata": {},
   "outputs": [
    {
     "ename": "NameError",
     "evalue": "name 'QCAlgorithm' is not defined",
     "output_type": "error",
     "traceback": [
      "\u001b[1;31m---------------------------------------------------------------------------\u001b[0m",
      "\u001b[1;31mNameError\u001b[0m                                 Traceback (most recent call last)",
      "\u001b[1;32m<ipython-input-4-cbd0a170cb22>\u001b[0m in \u001b[0;36m<module>\u001b[1;34m\u001b[0m\n\u001b[1;32m----> 1\u001b[1;33m \u001b[1;32mclass\u001b[0m \u001b[0mQC\u001b[0m\u001b[1;33m(\u001b[0m\u001b[0mQCAlgorithm\u001b[0m\u001b[1;33m)\u001b[0m\u001b[1;33m:\u001b[0m\u001b[1;33m\u001b[0m\u001b[1;33m\u001b[0m\u001b[0m\n\u001b[0m\u001b[0;32m      2\u001b[0m     \u001b[1;32mdef\u001b[0m \u001b[0mInitialize\u001b[0m\u001b[1;33m(\u001b[0m\u001b[0mself\u001b[0m\u001b[1;33m)\u001b[0m\u001b[1;33m:\u001b[0m\u001b[1;33m\u001b[0m\u001b[1;33m\u001b[0m\u001b[0m\n\u001b[0;32m      3\u001b[0m         \u001b[0mself\u001b[0m\u001b[1;33m.\u001b[0m\u001b[0mSetStartDate\u001b[0m\u001b[1;33m(\u001b[0m\u001b[1;36m2020\u001b[0m\u001b[1;33m,\u001b[0m\u001b[1;36m1\u001b[0m\u001b[1;33m,\u001b[0m\u001b[1;36m1\u001b[0m\u001b[1;33m)\u001b[0m \u001b[1;31m#date start for backtest\u001b[0m\u001b[1;33m\u001b[0m\u001b[1;33m\u001b[0m\u001b[0m\n\u001b[0;32m      4\u001b[0m         \u001b[0mself\u001b[0m\u001b[1;33m.\u001b[0m\u001b[0mSetEndDate\u001b[0m\u001b[1;33m(\u001b[0m\u001b[1;36m2022\u001b[0m\u001b[1;33m,\u001b[0m \u001b[1;36m8\u001b[0m\u001b[1;33m,\u001b[0m\u001b[1;36m8\u001b[0m\u001b[1;33m)\u001b[0m \u001b[1;31m#date end for backtest\u001b[0m\u001b[1;33m\u001b[0m\u001b[1;33m\u001b[0m\u001b[0m\n\u001b[0;32m      5\u001b[0m         \u001b[0mself\u001b[0m\u001b[1;33m.\u001b[0m\u001b[0mSetCash\u001b[0m\u001b[1;33m(\u001b[0m\u001b[1;36m100\u001b[0m\u001b[1;33m)\u001b[0m \u001b[1;31m#starting cash balance\u001b[0m\u001b[1;33m\u001b[0m\u001b[1;33m\u001b[0m\u001b[0m\n",
      "\u001b[1;31mNameError\u001b[0m: name 'QCAlgorithm' is not defined"
     ]
    }
   ],
   "source": [
    "class QC(QCAlgorithm):\n",
    "    def Initialize(self):\n",
    "        self.SetStartDate(2017,1,1) #date start for backtest\n",
    "        self.SetEndDate(2022, 8,8) #date end for backtest\n",
    "        self.SetCash(100) #starting cash balance\n",
    "        self.pair = self.AddForex(\"EURUSD\", Resolution.Daily, Market.Oanda).Symbol #adding forex pair\n",
    "        self.bb = self.BB(self.pair, 20, 2) #bollinger band over 20 days within 2 standard deviations\n",
    "        \n",
    "        Plotstock = Chart(\"Trade Plot\") #Creates a plot\n",
    "        Plotstock.AddSeries(Series(\"Buy\", SeriesType.Scatter, \"$\", Color.Green, ScatterMarkerSymbol.Triangle)) #Plot of Buy\n",
    "        Plotstock.AddSeries(Series(\"Sell\", SeriesType.Scatter, \"$\", Color.Red, ScatterMarkerSymbol.TriangleDown)) #Plot of Sell\n",
    "        Plotstock.AddSeries(Series(\"Liquidate\", SeriesType.Scatter, \"$\", Color.Blue, ScatterMarkerSymbol.Diamond)) #Plot of Liquidation\n",
    "        self.AddChart(Plotstock) #Adds the chart to the algorithm\n",
    "    def OnData(self, data):\n",
    "        if not self.bb.IsReady:\n",
    "            return\n",
    "        price = data[self.pair].Price\n",
    "        \n",
    "        self.Plot(\"Trade Plot\", \"Price\", price) #Plot price\n",
    "        self.Plot(\"Trade Plot\", \"MiddleBand\", self.bb.MiddleBand.Current.Value) #Plots average\n",
    "        self.Plot(\"Trade Plot\", \"Price\", self.bb.UpperBand.Current.Value) #Plots long position\n",
    "        self.Plot(\"Trade Plot\", \"Price\", self.bb.LowerBand.Current.Value) #Plots short position\n",
    "        \n",
    "        if not self.Portfolio.Invested: #if not invested, check if price is below bollinger bands\n",
    "            if self.bb.LowerBand.Current.Value > price:\n",
    "                self.SetHoldings(self.pair,1) #buy as much of pair as possible\n",
    "                self.Plot(\"Trade Plot\", \"Buy\", price) #Marks on the plot entry position\n",
    "            elif self.bb.UpperBand.Current.Value < price: #If above 2 s.d. establish short position\n",
    "                self.SetHoldings(self.pair, -1)\n",
    "                self.Plot(\"Trade Plot\", \"Sell\", price) #Marks on the plot the exit position\n",
    "            else:\n",
    "                if self.Portfolio[self.pair].IsLong: #if in long position, liquidate the position\n",
    "                    if self.bb.MiddleBand.Current.Value < price:\n",
    "                        self.Liquidate()\n",
    "                        self.Plot(\"Trade Plot\", \"Liquidate\", price) #Marks on the plot the liquidate position\n",
    "                elif self.bb.MiddleBand.Curent.Value > price: #if in short position, check if price dropped before MA and close any open positions\n",
    "                    self.Liquidate()\n",
    "                    self.Plot(\"Trade Plot\", \"Liquidate\", price) #Marks on the plot the liquidate position\n",
    "                "
   ]
  },
  {
   "cell_type": "code",
   "execution_count": null,
   "id": "9c3d48a5",
   "metadata": {},
   "outputs": [],
   "source": []
  }
 ],
 "metadata": {
  "kernelspec": {
   "display_name": "Python 3",
   "language": "python",
   "name": "python3"
  },
  "language_info": {
   "codemirror_mode": {
    "name": "ipython",
    "version": 3
   },
   "file_extension": ".py",
   "mimetype": "text/x-python",
   "name": "python",
   "nbconvert_exporter": "python",
   "pygments_lexer": "ipython3",
   "version": "3.8.8"
  }
 },
 "nbformat": 4,
 "nbformat_minor": 5
}
